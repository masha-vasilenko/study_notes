{
 "cells": [
  {
   "cell_type": "markdown",
   "metadata": {},
   "source": [
    "### Data sets by classification method"
   ]
  },
  {
   "cell_type": "markdown",
   "metadata": {},
   "source": [
    "|Classification Method | Toy data set | Medium | Large \n",
    "|-----------------------|--------------|--------|--------\n",
    "|kNN|[Zoo Animals classification](https://www.kaggle.com/uciml/zoo-animal-classification/data)/ [Iris](https://archive.ics.uci.edu/ml/datasets/iris)|[Bank Marketing dataset](https://www.kaggle.com/janiobachmann/bank-marketing-dataset/data)|[Forest Cover](https://www.kaggle.com/uciml/forest-cover-type-dataset/data)\n",
    "|Decision Trees, RF|[Titanic](https://www.kaggle.com/c/titanic/data)|[Ghoals, ghosts and goblins classifications ](https://www.kaggle.com/c/ghouls-goblins-and-ghosts-boo)|[Quora](https://www.kaggle.com/c/quora-question-pairs)/[Lending Club](https://www.kaggle.com/wendykan/lending-club-loan-data/data)|\n",
    "|SVM||||\n",
    "|Clustering|[User Knowledge Modeling](http://archive.ics.uci.edu/ml/datasets/User+Knowledge+Modeling)/[Wholesale customers]](https://archive.ics.uci.edu/ml/datasets/Wholesale+customers)||[Quora](https://www.kaggle.com/c/quora-question-pairs)|\n",
    "|Percepions and DNN|||[MNIST(fashion)](https://www.kaggle.com/zalando-research/fashionmnist)|"
   ]
  },
  {
   "cell_type": "code",
   "execution_count": null,
   "metadata": {},
   "outputs": [],
   "source": []
  }
 ],
 "metadata": {
  "kernelspec": {
   "display_name": "Python 3",
   "language": "python",
   "name": "python3"
  },
  "language_info": {
   "codemirror_mode": {
    "name": "ipython",
    "version": 3
   },
   "file_extension": ".py",
   "mimetype": "text/x-python",
   "name": "python",
   "nbconvert_exporter": "python",
   "pygments_lexer": "ipython3",
   "version": "3.6.3"
  }
 },
 "nbformat": 4,
 "nbformat_minor": 2
}
